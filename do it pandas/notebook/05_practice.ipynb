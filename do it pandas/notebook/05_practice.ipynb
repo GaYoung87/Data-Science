{
 "cells": [
  {
   "cell_type": "markdown",
   "metadata": {},
   "source": [
    "# concat 메서드 사용하기"
   ]
  },
  {
   "cell_type": "code",
   "execution_count": 1,
   "metadata": {},
   "outputs": [
    {
     "name": "stdout",
     "output_type": "stream",
     "text": [
      "    A   B   C   D\n",
      "0  a0  b0  c0  d0\n",
      "1  a1  b1  c1  d1\n",
      "2  a2  b2  c2  d2\n",
      "3  a3  b3  c3  d3\n",
      "    A   B   C   D\n",
      "0  a4  b4  c4  d4\n",
      "1  a5  b5  c5  d5\n",
      "2  a6  b6  c6  d6\n",
      "3  a7  b7  c7  d7\n",
      "     A    B    C    D\n",
      "0   a8   b8   c8   d8\n",
      "1   a9   b9   c9   d9\n",
      "2  a10  b10  c10  d10\n",
      "3  a11  b11  c11  d11\n"
     ]
    }
   ],
   "source": [
    "import pandas as pd\n",
    "\n",
    "df1 = pd.read_csv('../data/concat_1.csv')\n",
    "df2 = pd.read_csv('../data/concat_2.csv')\n",
    "df3 = pd.read_csv('../data/concat_3.csv')\n",
    "\n",
    "# df1\n",
    "#     A   B   C   D\n",
    "# 0  a0  b0  c0  d0\n",
    "# 1  a1  b1  c1  d1\n",
    "# 2  a2  b2  c2  d2\n",
    "# 3  a3  b3  c3  d3\n",
    "\n",
    "# df2\n",
    "#     A   B   C   D\n",
    "# 0  a4  b4  c4  d4\n",
    "# 1  a5  b5  c5  d5\n",
    "# 2  a6  b6  c6  d6\n",
    "# 3  a7  b7  c7  d7\n",
    "\n",
    "# df3\n",
    "#      A    B    C    D\n",
    "# 0   a8   b8   c8   d8\n",
    "# 1   a9   b9   c9   d9\n",
    "# 2  a10  b10  c10  d10\n",
    "# 3  a11  b11  c11  d11"
   ]
  },
  {
   "cell_type": "code",
   "execution_count": 3,
   "metadata": {},
   "outputs": [
    {
     "name": "stdout",
     "output_type": "stream",
     "text": [
      "     A    B    C    D\n",
      "0   a0   b0   c0   d0\n",
      "1   a1   b1   c1   d1\n",
      "2   a2   b2   c2   d2\n",
      "3   a3   b3   c3   d3\n",
      "0   a4   b4   c4   d4\n",
      "1   a5   b5   c5   d5\n",
      "2   a6   b6   c6   d6\n",
      "3   a7   b7   c7   d7\n",
      "0   a8   b8   c8   d8\n",
      "1   a9   b9   c9   d9\n",
      "2  a10  b10  c10  d10\n",
      "3  a11  b11  c11  d11\n"
     ]
    }
   ],
   "source": [
    "row_concat = pd.concat([df1, df2, df3])\n",
    "print(row_concat)\n",
    "\n",
    "#      A    B    C    D\n",
    "# 0   a0   b0   c0   d0\n",
    "# 1   a1   b1   c1   d1\n",
    "# 2   a2   b2   c2   d2\n",
    "# 3   a3   b3   c3   d3\n",
    "# 0   a4   b4   c4   d4\n",
    "# 1   a5   b5   c5   d5\n",
    "# 2   a6   b6   c6   d6\n",
    "# 3   a7   b7   c7   d7\n",
    "# 0   a8   b8   c8   d8\n",
    "# 1   a9   b9   c9   d9\n",
    "# 2  a10  b10  c10  d10\n",
    "# 3  a11  b11  c11  d11\n",
    "\n",
    "# 데이터 프레임을 연결한 다음에도 열, 인덱스는 그대로 유지"
   ]
  },
  {
   "cell_type": "code",
   "execution_count": 6,
   "metadata": {},
   "outputs": [
    {
     "name": "stdout",
     "output_type": "stream",
     "text": [
      "A    a3\n",
      "B    b3\n",
      "C    c3\n",
      "D    d3\n",
      "Name: 3, dtype: object\n"
     ]
    }
   ],
   "source": [
    "# 데이터 프레임에서 4번째 행을 추출\n",
    "print(row_concat.iloc[3, ])\n",
    "\n",
    "# A    a3\n",
    "# B    b3\n",
    "# C    c3\n",
    "# D    d3\n",
    "# Name: 3, dtype: object"
   ]
  },
  {
   "cell_type": "code",
   "execution_count": 7,
   "metadata": {},
   "outputs": [
    {
     "name": "stdout",
     "output_type": "stream",
     "text": [
      "     A    B    C    D\n",
      "3   a3   b3   c3   d3\n",
      "3   a7   b7   c7   d7\n",
      "3  a11  b11  c11  d11\n"
     ]
    }
   ],
   "source": [
    "# 데이터프레임에서 index가 3인 행 추출\n",
    "print(row_concat.loc[3, ])\n",
    "\n",
    "#      A    B    C    D\n",
    "# 3   a3   b3   c3   d3\n",
    "# 3   a7   b7   c7   d7\n",
    "# 3  a11  b11  c11  d11"
   ]
  },
  {
   "cell_type": "markdown",
   "metadata": {},
   "source": [
    "# 데이터프레임에 시리즈 연결하기"
   ]
  },
  {
   "cell_type": "code",
   "execution_count": 9,
   "metadata": {},
   "outputs": [
    {
     "name": "stdout",
     "output_type": "stream",
     "text": [
      "     A    B    C    D    0\n",
      "0   a0   b0   c0   d0  NaN\n",
      "1   a1   b1   c1   d1  NaN\n",
      "2   a2   b2   c2   d2  NaN\n",
      "3   a3   b3   c3   d3  NaN\n",
      "0  NaN  NaN  NaN  NaN   n1\n",
      "1  NaN  NaN  NaN  NaN   n2\n",
      "2  NaN  NaN  NaN  NaN   n3\n",
      "3  NaN  NaN  NaN  NaN   n4\n"
     ]
    }
   ],
   "source": [
    "# 데이터프레임에 시리즈 연결하기\n",
    "\n",
    "# 시리즈 추가\n",
    "new_row_series = pd.Series(['n1', 'n2', 'n3', 'n4'])\n",
    "\n",
    "# 시리즈 연결\n",
    "print(pd.concat([df1, new_row_series]))\n",
    "#      A    B    C    D    0\n",
    "# 0   a0   b0   c0   d0  NaN\n",
    "# 1   a1   b1   c1   d1  NaN\n",
    "# 2   a2   b2   c2   d2  NaN\n",
    "# 3   a3   b3   c3   d3  NaN\n",
    "# 0  NaN  NaN  NaN  NaN   n1\n",
    "# 1  NaN  NaN  NaN  NaN   n2\n",
    "# 2  NaN  NaN  NaN  NaN   n3\n",
    "# 3  NaN  NaN  NaN  NaN   n4\n",
    "\n",
    "# 시리즈가 새로운 행이 아닌 새로운 열로 추가됨!!"
   ]
  },
  {
   "cell_type": "markdown",
   "metadata": {},
   "source": [
    "# 행 1개로 구성된 데이터프레임 생성하여 연결하기"
   ]
  },
  {
   "cell_type": "code",
   "execution_count": 10,
   "metadata": {},
   "outputs": [
    {
     "name": "stdout",
     "output_type": "stream",
     "text": [
      "    A   B   C   D\n",
      "0  n1  n2  n3  n4\n"
     ]
    }
   ],
   "source": [
    "# 행 1개로 구성된 데이터프레임 생성\n",
    "new_row_df = pd.DataFrame([['n1', 'n2', 'n3', 'n4']], columns=['A', 'B', 'C', 'D'])\n",
    "print(new_row_df)\n",
    "\n",
    "#     A   B   C   D\n",
    "# 0  n1  n2  n3  n4"
   ]
  },
  {
   "cell_type": "code",
   "execution_count": 12,
   "metadata": {},
   "outputs": [
    {
     "name": "stdout",
     "output_type": "stream",
     "text": [
      "    A   B   C   D\n",
      "0  a0  b0  c0  d0\n",
      "1  a1  b1  c1  d1\n",
      "2  a2  b2  c2  d2\n",
      "3  a3  b3  c3  d3\n",
      "0  n1  n2  n3  n4\n"
     ]
    }
   ],
   "source": [
    "# 새로운 데이터프레임과 기존의 데이터프레임 연결\n",
    "print(pd.concat([df1, new_row_df]))\n",
    "\n",
    "#     A   B   C   D\n",
    "# 0  a0  b0  c0  d0\n",
    "# 1  a1  b1  c1  d1\n",
    "# 2  a2  b2  c2  d2\n",
    "# 3  a3  b3  c3  d3\n",
    "# 0  n1  n2  n3  n4"
   ]
  },
  {
   "cell_type": "code",
   "execution_count": 13,
   "metadata": {},
   "outputs": [
    {
     "name": "stdout",
     "output_type": "stream",
     "text": [
      "    A   B   C   D\n",
      "0  a0  b0  c0  d0\n",
      "1  a1  b1  c1  d1\n",
      "2  a2  b2  c2  d2\n",
      "3  a3  b3  c3  d3\n",
      "0  n1  n2  n3  n4\n"
     ]
    }
   ],
   "source": [
    "# append 메서드\n",
    "print(df1.append(new_row_df))\n",
    "\n",
    "#     A   B   C   D\n",
    "# 0  a0  b0  c0  d0\n",
    "# 1  a1  b1  c1  d1\n",
    "# 2  a2  b2  c2  d2\n",
    "# 3  a3  b3  c3  d3\n",
    "# 0  n1  n2  n3  n4\n",
    "\n",
    "# concat메서드: 한번에 2개 이상의 데이터프레임을 연결할 수 있음\n",
    "# append메서드: 한번에 1개 데이터프레임을 연결할 수 있음"
   ]
  },
  {
   "cell_type": "code",
   "execution_count": 17,
   "metadata": {},
   "outputs": [
    {
     "name": "stdout",
     "output_type": "stream",
     "text": [
      "    A   B   C   D\n",
      "0  a0  b0  c0  d0\n",
      "1  a1  b1  c1  d1\n",
      "2  a2  b2  c2  d2\n",
      "3  a3  b3  c3  d3\n",
      "4  n1  n2  n3  n4\n"
     ]
    }
   ],
   "source": [
    "# append메서드 + 딕셔너리 사용\n",
    "data_dict = {'A':'n1', 'B':'n2', 'C':'n3', 'D':'n4'}\n",
    "print(df1.append(data_dict, ignore_index=True))\n",
    "\n",
    "# ignore_index=True: 연결 후 데이터프레임의 인덱스를 0부터 다시 지정\n",
    "#     A   B   C   D\n",
    "# 0  a0  b0  c0  d0\n",
    "# 1  a1  b1  c1  d1\n",
    "# 2  a2  b2  c2  d2\n",
    "# 3  a3  b3  c3  d3\n",
    "# 4  n1  n2  n3  n4\n",
    "\n",
    "# ignore_index=False: ERROR"
   ]
  },
  {
   "cell_type": "markdown",
   "metadata": {},
   "source": [
    "# 다양한 방법으로 데이터 연결하기"
   ]
  },
  {
   "cell_type": "code",
   "execution_count": 18,
   "metadata": {},
   "outputs": [
    {
     "name": "stdout",
     "output_type": "stream",
     "text": [
      "      A    B    C    D\n",
      "0    a0   b0   c0   d0\n",
      "1    a1   b1   c1   d1\n",
      "2    a2   b2   c2   d2\n",
      "3    a3   b3   c3   d3\n",
      "4    a4   b4   c4   d4\n",
      "5    a5   b5   c5   d5\n",
      "6    a6   b6   c6   d6\n",
      "7    a7   b7   c7   d7\n",
      "8    a8   b8   c8   d8\n",
      "9    a9   b9   c9   d9\n",
      "10  a10  b10  c10  d10\n",
      "11  a11  b11  c11  d11\n"
     ]
    }
   ],
   "source": [
    "# ignore_index인자 사용하기\n",
    "row_concat_i = pd.concat([df1, df2, df3], ignore_index=True)\n",
    "print(row_concat_i)\n",
    "\n",
    "#       A    B    C    D\n",
    "# 0    a0   b0   c0   d0\n",
    "# 1    a1   b1   c1   d1\n",
    "# 2    a2   b2   c2   d2\n",
    "# 3    a3   b3   c3   d3\n",
    "# 4    a4   b4   c4   d4\n",
    "# 5    a5   b5   c5   d5\n",
    "# 6    a6   b6   c6   d6\n",
    "# 7    a7   b7   c7   d7\n",
    "# 8    a8   b8   c8   d8\n",
    "# 9    a9   b9   c9   d9\n",
    "# 10  a10  b10  c10  d10\n",
    "# 11  a11  b11  c11  d11"
   ]
  },
  {
   "cell_type": "code",
   "execution_count": 19,
   "metadata": {},
   "outputs": [
    {
     "name": "stdout",
     "output_type": "stream",
     "text": [
      "    A   B   C   D   A   B   C   D    A    B    C    D\n",
      "0  a0  b0  c0  d0  a4  b4  c4  d4   a8   b8   c8   d8\n",
      "1  a1  b1  c1  d1  a5  b5  c5  d5   a9   b9   c9   d9\n",
      "2  a2  b2  c2  d2  a6  b6  c6  d6  a10  b10  c10  d10\n",
      "3  a3  b3  c3  d3  a7  b7  c7  d7  a11  b11  c11  d11\n"
     ]
    }
   ],
   "source": [
    "# 열 방향으로 데이터 연결하기 -> axis=1 사용\n",
    "col_concat = pd.concat([df1, df2, df3], axis=1)\n",
    "print(col_concat)\n",
    "\n",
    "#     A   B   C   D   A   B   C   D    A    B    C    D\n",
    "# 0  a0  b0  c0  d0  a4  b4  c4  d4   a8   b8   c8   d8\n",
    "# 1  a1  b1  c1  d1  a5  b5  c5  d5   a9   b9   c9   d9\n",
    "# 2  a2  b2  c2  d2  a6  b6  c6  d6  a10  b10  c10  d10\n",
    "# 3  a3  b3  c3  d3  a7  b7  c7  d7  a11  b11  c11  d11"
   ]
  },
  {
   "cell_type": "code",
   "execution_count": 20,
   "metadata": {},
   "outputs": [
    {
     "name": "stdout",
     "output_type": "stream",
     "text": [
      "    A   A    A\n",
      "0  a0  a4   a8\n",
      "1  a1  a5   a9\n",
      "2  a2  a6  a10\n",
      "3  a3  a7  a11\n"
     ]
    }
   ],
   "source": [
    "# 같은 열 이름이 있는 데이터프레임에서 열 이름으로 데이터를 추출하면, 해당 열 이름의 데이터 모두 추출\n",
    "print(col_concat['A'])\n",
    "\n",
    "#     A   A    A\n",
    "# 0  a0  a4   a8\n",
    "# 1  a1  a5   a9\n",
    "# 2  a2  a6  a10\n",
    "# 3  a3  a7  a11"
   ]
  },
  {
   "cell_type": "code",
   "execution_count": 21,
   "metadata": {},
   "outputs": [
    {
     "name": "stdout",
     "output_type": "stream",
     "text": [
      "    A   B   C   D   A   B   C   D    A    B    C    D new_col_list\n",
      "0  a0  b0  c0  d0  a4  b4  c4  d4   a8   b8   c8   d8           n1\n",
      "1  a1  b1  c1  d1  a5  b5  c5  d5   a9   b9   c9   d9           n2\n",
      "2  a2  b2  c2  d2  a6  b6  c6  d6  a10  b10  c10  d10           n3\n",
      "3  a3  b3  c3  d3  a7  b7  c7  d7  a11  b11  c11  d11           n4\n"
     ]
    }
   ],
   "source": [
    "# 새로운 열 추가\n",
    "col_concat['new_col_list'] = ['n1', 'n2', 'n3', 'n4']\n",
    "             # 변수명                 열내용\n",
    "print(col_concat)  # 열 이름 중복\n",
    "\n",
    "#     A   B   C   D   A   B   C   D    A    B    C    D new_col_list\n",
    "# 0  a0  b0  c0  d0  a4  b4  c4  d4   a8   b8   c8   d8           n1\n",
    "# 1  a1  b1  c1  d1  a5  b5  c5  d5   a9   b9   c9   d9           n2\n",
    "# 2  a2  b2  c2  d2  a6  b6  c6  d6  a10  b10  c10  d10           n3\n",
    "# 3  a3  b3  c3  d3  a7  b7  c7  d7  a11  b11  c11  d11           n4"
   ]
  },
  {
   "cell_type": "code",
   "execution_count": 23,
   "metadata": {},
   "outputs": [
    {
     "name": "stdout",
     "output_type": "stream",
     "text": [
      "   0   1   2   3   4   5   6   7    8    9    10   11\n",
      "0  a0  b0  c0  d0  a4  b4  c4  d4   a8   b8   c8   d8\n",
      "1  a1  b1  c1  d1  a5  b5  c5  d5   a9   b9   c9   d9\n",
      "2  a2  b2  c2  d2  a6  b6  c6  d6  a10  b10  c10  d10\n",
      "3  a3  b3  c3  d3  a7  b7  c7  d7  a11  b11  c11  d11\n"
     ]
    }
   ],
   "source": [
    "# 열 이름 중복 안되게 -> ignore_index=True와 axis=1(가로)\n",
    "print(pd.concat([df1, df2, df3], axis=1, ignore_index=True))\n",
    "\n",
    "#    0   1   2   3   4   5   6   7    8    9    10   11\n",
    "# 0  a0  b0  c0  d0  a4  b4  c4  d4   a8   b8   c8   d8\n",
    "# 1  a1  b1  c1  d1  a5  b5  c5  d5   a9   b9   c9   d9\n",
    "# 2  a2  b2  c2  d2  a6  b6  c6  d6  a10  b10  c10  d10\n",
    "# 3  a3  b3  c3  d3  a7  b7  c7  d7  a11  b11  c11  d11"
   ]
  },
  {
   "cell_type": "markdown",
   "metadata": {},
   "source": [
    "# 공통 열과 공통 인덱스만 연결하기"
   ]
  },
  {
   "cell_type": "code",
   "execution_count": 24,
   "metadata": {},
   "outputs": [
    {
     "name": "stdout",
     "output_type": "stream",
     "text": [
      "     A    B    C    D    E    F    G    H\n",
      "0   a0   b0   c0   d0  NaN  NaN  NaN  NaN\n",
      "1   a1   b1   c1   d1  NaN  NaN  NaN  NaN\n",
      "2   a2   b2   c2   d2  NaN  NaN  NaN  NaN\n",
      "3   a3   b3   c3   d3  NaN  NaN  NaN  NaN\n",
      "0  NaN  NaN  NaN  NaN   a4   b4   c4   d4\n",
      "1  NaN  NaN  NaN  NaN   a5   b5   c5   d5\n",
      "2  NaN  NaN  NaN  NaN   a6   b6   c6   d6\n",
      "3  NaN  NaN  NaN  NaN   a7   b7   c7   d7\n",
      "0   a8  NaN   b8  NaN  NaN   c8  NaN   d8\n",
      "1   a9  NaN   b9  NaN  NaN   c9  NaN   d9\n",
      "2  a10  NaN  b10  NaN  NaN  c10  NaN  d10\n",
      "3  a11  NaN  b11  NaN  NaN  c11  NaN  d11\n"
     ]
    },
    {
     "name": "stderr",
     "output_type": "stream",
     "text": [
      "C:\\Users\\gyyoo\\Anaconda3\\lib\\site-packages\\ipykernel_launcher.py:9: FutureWarning: Sorting because non-concatenation axis is not aligned. A future version\n",
      "of pandas will change to not sort by default.\n",
      "\n",
      "To accept the future behavior, pass 'sort=False'.\n",
      "\n",
      "To retain the current behavior and silence the warning, pass 'sort=True'.\n",
      "\n",
      "  if __name__ == '__main__':\n"
     ]
    }
   ],
   "source": [
    "# 열의 이름 일부가 서로 다른 데이터 프레임을 연결하면? -> 누락값 뜸\n",
    "\n",
    "# 열 이름 일부 중복\n",
    "df1.columns = ['A', 'B', 'C', 'D']\n",
    "df2.columns = ['E', 'F', 'G', 'H']\n",
    "df3.columns = ['A', 'C', 'F', 'H']\n",
    "\n",
    "# 데이터 연결\n",
    "row_concat = pd.concat([df1, df2, df3])\n",
    "print(row_concat)\n",
    "\n",
    "#      A    B    C    D    E    F    G    H\n",
    "# 0   a0   b0   c0   d0  NaN  NaN  NaN  NaN\n",
    "# 1   a1   b1   c1   d1  NaN  NaN  NaN  NaN\n",
    "# 2   a2   b2   c2   d2  NaN  NaN  NaN  NaN\n",
    "# 3   a3   b3   c3   d3  NaN  NaN  NaN  NaN\n",
    "# 0  NaN  NaN  NaN  NaN   a4   b4   c4   d4\n",
    "# 1  NaN  NaN  NaN  NaN   a5   b5   c5   d5\n",
    "# 2  NaN  NaN  NaN  NaN   a6   b6   c6   d6\n",
    "# 3  NaN  NaN  NaN  NaN   a7   b7   c7   d7\n",
    "# 0   a8  NaN   b8  NaN  NaN   c8  NaN   d8\n",
    "# 1   a9  NaN   b9  NaN  NaN   c9  NaN   d9\n",
    "# 2  a10  NaN  b10  NaN  NaN  c10  NaN  d10\n",
    "# 3  a11  NaN  b11  NaN  NaN  c11  NaN  d11"
   ]
  },
  {
   "cell_type": "code",
   "execution_count": 27,
   "metadata": {},
   "outputs": [
    {
     "name": "stdout",
     "output_type": "stream",
     "text": [
      "Empty DataFrame\n",
      "Columns: []\n",
      "Index: [0, 1, 2, 3, 0, 1, 2, 3, 0, 1, 2, 3]\n"
     ]
    }
   ],
   "source": [
    "# 누락값 없이 데이터 연결 -> 공통열만 골라 연결!\n",
    "print(pd.concat([df1, df2, df3], join='inner'))\n",
    "\n",
    "# Empty DataFrame\n",
    "# Columns: []\n",
    "# Index: [0, 1, 2, 3, 0, 1, 2, 3, 0, 1, 2, 3]\n",
    "# why? 세 데이터프레임의 공통인자 없음!"
   ]
  },
  {
   "cell_type": "code",
   "execution_count": 28,
   "metadata": {},
   "outputs": [
    {
     "name": "stdout",
     "output_type": "stream",
     "text": [
      "     A    C\n",
      "0   a0   c0\n",
      "1   a1   c1\n",
      "2   a2   c2\n",
      "3   a3   c3\n",
      "0   a8   b8\n",
      "1   a9   b9\n",
      "2  a10  b10\n",
      "3  a11  b11\n"
     ]
    }
   ],
   "source": [
    "print(pd.concat([df1, df3], ignore_index=False, join='inner'))\n",
    "\n",
    "# 누락값 없음\n",
    "#      A    C\n",
    "# 0   a0   c0\n",
    "# 1   a1   c1\n",
    "# 2   a2   c2\n",
    "# 3   a3   c3\n",
    "# 0   a8   b8\n",
    "# 1   a9   b9\n",
    "# 2  a10  b10\n",
    "# 3  a11  b11"
   ]
  },
  {
   "cell_type": "code",
   "execution_count": 29,
   "metadata": {},
   "outputs": [
    {
     "name": "stdout",
     "output_type": "stream",
     "text": [
      "    A   B   C   D\n",
      "0  a0  b0  c0  d0\n",
      "1  a1  b1  c1  d1\n",
      "2  a2  b2  c2  d2\n",
      "3  a3  b3  c3  d3\n"
     ]
    }
   ],
   "source": [
    "# 데이터프레임을 행 방향으로 연결\n",
    "df1.index = [0, 1, 2, 3]\n",
    "df2.index = [4, 5, 6, 7]\n",
    "df3.index = [0, 2, 5, 7]\n",
    "\n",
    "print(df1)\n",
    "#     A   B   C   D\n",
    "# 0  a0  b0  c0  d0\n",
    "# 1  a1  b1  c1  d1\n",
    "# 2  a2  b2  c2  d2\n",
    "# 3  a3  b3  c3  d3"
   ]
  },
  {
   "cell_type": "code",
   "execution_count": 30,
   "metadata": {},
   "outputs": [
    {
     "name": "stdout",
     "output_type": "stream",
     "text": [
      "     A    B    C    D    E    F    G    H    A    C    F    H\n",
      "0   a0   b0   c0   d0  NaN  NaN  NaN  NaN   a8   b8   c8   d8\n",
      "1   a1   b1   c1   d1  NaN  NaN  NaN  NaN  NaN  NaN  NaN  NaN\n",
      "2   a2   b2   c2   d2  NaN  NaN  NaN  NaN   a9   b9   c9   d9\n",
      "3   a3   b3   c3   d3  NaN  NaN  NaN  NaN  NaN  NaN  NaN  NaN\n",
      "4  NaN  NaN  NaN  NaN   a4   b4   c4   d4  NaN  NaN  NaN  NaN\n",
      "5  NaN  NaN  NaN  NaN   a5   b5   c5   d5  a10  b10  c10  d10\n",
      "6  NaN  NaN  NaN  NaN   a6   b6   c6   d6  NaN  NaN  NaN  NaN\n",
      "7  NaN  NaN  NaN  NaN   a7   b7   c7   d7  a11  b11  c11  d11\n"
     ]
    }
   ],
   "source": [
    "col_concat = pd.concat([df1, df2, df3], axis=1)\n",
    "print(col_concat)\n",
    "\n",
    "#      A    B    C    D    E    F    G    H    A    C    F    H\n",
    "# 0   a0   b0   c0   d0  NaN  NaN  NaN  NaN   a8   b8   c8   d8\n",
    "# 1   a1   b1   c1   d1  NaN  NaN  NaN  NaN  NaN  NaN  NaN  NaN\n",
    "# 2   a2   b2   c2   d2  NaN  NaN  NaN  NaN   a9   b9   c9   d9\n",
    "# 3   a3   b3   c3   d3  NaN  NaN  NaN  NaN  NaN  NaN  NaN  NaN\n",
    "# 4  NaN  NaN  NaN  NaN   a4   b4   c4   d4  NaN  NaN  NaN  NaN\n",
    "# 5  NaN  NaN  NaN  NaN   a5   b5   c5   d5  a10  b10  c10  d10\n",
    "# 6  NaN  NaN  NaN  NaN   a6   b6   c6   d6  NaN  NaN  NaN  NaN\n",
    "# 7  NaN  NaN  NaN  NaN   a7   b7   c7   d7  a11  b11  c11  d11"
   ]
  },
  {
   "cell_type": "code",
   "execution_count": 32,
   "metadata": {},
   "outputs": [
    {
     "name": "stdout",
     "output_type": "stream",
     "text": [
      "    A   B   C   D   A   C   F   H\n",
      "0  a0  b0  c0  d0  a8  b8  c8  d8\n",
      "2  a2  b2  c2  d2  a9  b9  c9  d9\n"
     ]
    }
   ],
   "source": [
    "print(pd.concat([df1, df3], axis=1, join='inner'))"
   ]
  },
  {
   "cell_type": "code",
   "execution_count": null,
   "metadata": {},
   "outputs": [],
   "source": [
    "# 외부조인과 내부조인\n",
    "1. 내부조인: 둘 이상의 데이터프레임에서 조건에 맞는 행을 연결\n",
    "\n",
    "2. 외부조인: 두 데이터프레임 중 어떤 데이터프레임을 기준으로 할 것인가\n",
    "     - 왼쪽 외부조인: 연결 시 왼쪽 데이터프레임 모두 포함\n",
    "     - 오른쪽 외부조인: 연결 시 오른쪽 데이터프레임 모두 포함\n",
    "     - 완전 외부조인: 연결 시 양쪽 데이터프레임 모두 포함"
   ]
  },
  {
   "cell_type": "markdown",
   "metadata": {},
   "source": [
    "# merge 메서드 사용하기"
   ]
  },
  {
   "cell_type": "code",
   "execution_count": 34,
   "metadata": {},
   "outputs": [
    {
     "name": "stdout",
     "output_type": "stream",
     "text": [
      "      ident   personal    family\n",
      "0      dyer    William      Dyer\n",
      "1        pb      Frank   Pabodie\n",
      "2      lake   Anderson      Lake\n",
      "3       roe  Valentina   Roerich\n",
      "4  danforth      Frank  Danforth\n",
      "    name    lat    long\n",
      "0   DR-1 -49.85 -128.57\n",
      "1   DR-3 -47.15 -126.72\n",
      "2  MSK-4 -48.87 -123.40\n",
      "    taken person quant  reading\n",
      "0     619   dyer   rad     9.82\n",
      "1     619   dyer   sal     0.13\n",
      "2     622   dyer   rad     7.80\n",
      "3     622   dyer   sal     0.09\n",
      "4     734     pb   rad     8.41\n",
      "5     734   lake   sal     0.05\n",
      "6     734     pb  temp   -21.50\n",
      "7     735     pb   rad     7.22\n",
      "8     735    NaN   sal     0.06\n",
      "9     735    NaN  temp   -26.00\n",
      "10    751     pb   rad     4.35\n",
      "11    751     pb  temp   -18.50\n",
      "12    751   lake   sal     0.10\n",
      "13    752   lake   rad     2.19\n",
      "14    752   lake   sal     0.09\n",
      "15    752   lake  temp   -16.00\n",
      "16    752    roe   sal    41.60\n",
      "17    837   lake   rad     1.46\n",
      "18    837   lake   sal     0.21\n",
      "19    837    roe   sal    22.50\n",
      "20    844    roe   rad    11.25\n",
      "   ident   site       dated\n",
      "0    619   DR-1  1927-02-08\n",
      "1    622   DR-1  1927-02-10\n",
      "2    734   DR-3  1939-01-07\n",
      "3    735   DR-3  1930-01-12\n",
      "4    751   DR-3  1930-02-26\n",
      "5    752   DR-3         NaN\n",
      "6    837  MSK-4  1932-01-14\n",
      "7    844   DR-1  1932-03-22\n"
     ]
    }
   ],
   "source": [
    "# 필요한 데이터집합 불러오기\n",
    "person = pd.read_csv('../data/survey_person.csv')\n",
    "site = pd.read_csv('../data/survey_site.csv')\n",
    "survey = pd.read_csv('../data/survey_survey.csv')\n",
    "visited = pd.read_csv('../data/survey_visited.csv')\n",
    "\n",
    "print(person)\n",
    "#       ident   personal    family\n",
    "# 0      dyer    William      Dyer\n",
    "# 1        pb      Frank   Pabodie\n",
    "# 2      lake   Anderson      Lake\n",
    "# 3       roe  Valentina   Roerich\n",
    "# 4  danforth      Frank  Danforth\n",
    "\n",
    "print(site)\n",
    "#     name    lat    long\n",
    "# 0   DR-1 -49.85 -128.57\n",
    "# 1   DR-3 -47.15 -126.72\n",
    "# 2  MSK-4 -48.87 -123.40\n",
    "\n",
    "print(survey)\n",
    "#     taken person quant  reading\n",
    "# 0     619   dyer   rad     9.82\n",
    "# 1     619   dyer   sal     0.13\n",
    "# 2     622   dyer   rad     7.80\n",
    "# 3     622   dyer   sal     0.09\n",
    "# 4     734     pb   rad     8.41\n",
    "# 5     734   lake   sal     0.05\n",
    "# 6     734     pb  temp   -21.50\n",
    "# 7     735     pb   rad     7.22\n",
    "# 8     735    NaN   sal     0.06\n",
    "# 9     735    NaN  temp   -26.00\n",
    "# 10    751     pb   rad     4.35\n",
    "# 11    751     pb  temp   -18.50\n",
    "# 12    751   lake   sal     0.10\n",
    "# 13    752   lake   rad     2.19\n",
    "# 14    752   lake   sal     0.09\n",
    "# 15    752   lake  temp   -16.00\n",
    "# 16    752    roe   sal    41.60\n",
    "# 17    837   lake   rad     1.46\n",
    "# 18    837   lake   sal     0.21\n",
    "# 19    837    roe   sal    22.50\n",
    "# 20    844    roe   rad    11.25\n",
    "\n",
    "print(visited)\n",
    "#    ident   site       dated\n",
    "# 0    619   DR-1  1927-02-08\n",
    "# 1    622   DR-1  1927-02-10\n",
    "# 2    734   DR-3  1939-01-07\n",
    "# 3    735   DR-3  1930-01-12\n",
    "# 4    751   DR-3  1930-02-26\n",
    "# 5    752   DR-3         NaN\n",
    "# 6    837  MSK-4  1932-01-14\n",
    "# 7    844   DR-1  1932-03-22"
   ]
  },
  {
   "cell_type": "code",
   "execution_count": 35,
   "metadata": {},
   "outputs": [],
   "source": [
    "visited_subset = visited.loc[[0, 2, 6], ]"
   ]
  },
  {
   "cell_type": "code",
   "execution_count": 36,
   "metadata": {},
   "outputs": [
    {
     "name": "stdout",
     "output_type": "stream",
     "text": [
      "    name    lat    long  ident   site       dated\n",
      "0   DR-1 -49.85 -128.57    619   DR-1  1927-02-08\n",
      "1   DR-3 -47.15 -126.72    734   DR-3  1939-01-07\n",
      "2  MSK-4 -48.87 -123.40    837  MSK-4  1932-01-14\n"
     ]
    }
   ],
   "source": [
    "o2o_merge = site.merge(visited_subset, left_on='name', right_on='site')\n",
    "print(o2o_merge)\n",
    "\n",
    "# site를 왼쪽으로 지정\n",
    "# 첫번째 인자값으로 지정한 데이터프레임(visited_subset)을 오른쪽으로 지정\n",
    "# left_on, right_on: 값이 일치해야 할 왼쪽과 오른쪽 데이터프레임의 열을 지정 \n",
    "#         -> site의 name과 visited_subset의 site가 일치해야함!\n",
    "\n",
    "#     name    lat    long  ident   site       dated\n",
    "# 0   DR-1 -49.85 -128.57    619   DR-1  1927-02-08\n",
    "# 1   DR-3 -47.15 -126.72    734   DR-3  1939-01-07\n",
    "# 2  MSK-4 -48.87 -123.40    837  MSK-4  1932-01-14"
   ]
  },
  {
   "cell_type": "code",
   "execution_count": 37,
   "metadata": {},
   "outputs": [
    {
     "name": "stdout",
     "output_type": "stream",
     "text": [
      "    name    lat    long  ident   site       dated\n",
      "0   DR-1 -49.85 -128.57    619   DR-1  1927-02-08\n",
      "1   DR-1 -49.85 -128.57    622   DR-1  1927-02-10\n",
      "2   DR-1 -49.85 -128.57    844   DR-1  1932-03-22\n",
      "3   DR-3 -47.15 -126.72    734   DR-3  1939-01-07\n",
      "4   DR-3 -47.15 -126.72    735   DR-3  1930-01-12\n",
      "5   DR-3 -47.15 -126.72    751   DR-3  1930-02-26\n",
      "6   DR-3 -47.15 -126.72    752   DR-3         NaN\n",
      "7  MSK-4 -48.87 -123.40    837  MSK-4  1932-01-14\n"
     ]
    }
   ],
   "source": [
    "m2o_merge = site.merge(visited, left_on='name', right_on='site')\n",
    "print(m2o_merge)\n",
    "\n",
    "#     name    lat    long  ident   site       dated\n",
    "# 0   DR-1 -49.85 -128.57    619   DR-1  1927-02-08\n",
    "# 1   DR-1 -49.85 -128.57    622   DR-1  1927-02-10\n",
    "# 2   DR-1 -49.85 -128.57    844   DR-1  1932-03-22\n",
    "# 3   DR-3 -47.15 -126.72    734   DR-3  1939-01-07\n",
    "# 4   DR-3 -47.15 -126.72    735   DR-3  1930-01-12\n",
    "# 5   DR-3 -47.15 -126.72    751   DR-3  1930-02-26\n",
    "# 6   DR-3 -47.15 -126.72    752   DR-3         NaN\n",
    "# 7  MSK-4 -48.87 -123.40    837  MSK-4  1932-01-14"
   ]
  },
  {
   "cell_type": "code",
   "execution_count": 39,
   "metadata": {},
   "outputs": [
    {
     "name": "stdout",
     "output_type": "stream",
     "text": [
      "   ident   personal   family  taken person quant  reading\n",
      "0   dyer    William     Dyer    619   dyer   rad     9.82\n",
      "1   dyer    William     Dyer    619   dyer   sal     0.13\n",
      "2   dyer    William     Dyer    622   dyer   rad     7.80\n",
      "3   dyer    William     Dyer    622   dyer   sal     0.09\n",
      "4     pb      Frank  Pabodie    734     pb   rad     8.41\n",
      "5     pb      Frank  Pabodie    734     pb  temp   -21.50\n",
      "6     pb      Frank  Pabodie    735     pb   rad     7.22\n",
      "7     pb      Frank  Pabodie    751     pb   rad     4.35\n",
      "8     pb      Frank  Pabodie    751     pb  temp   -18.50\n",
      "9   lake   Anderson     Lake    734   lake   sal     0.05\n",
      "10  lake   Anderson     Lake    751   lake   sal     0.10\n",
      "11  lake   Anderson     Lake    752   lake   rad     2.19\n",
      "12  lake   Anderson     Lake    752   lake   sal     0.09\n",
      "13  lake   Anderson     Lake    752   lake  temp   -16.00\n",
      "14  lake   Anderson     Lake    837   lake   rad     1.46\n",
      "15  lake   Anderson     Lake    837   lake   sal     0.21\n",
      "16   roe  Valentina  Roerich    752    roe   sal    41.60\n",
      "17   roe  Valentina  Roerich    837    roe   sal    22.50\n",
      "18   roe  Valentina  Roerich    844    roe   rad    11.25\n",
      "    ident   site       dated  taken person quant  reading\n",
      "0     619   DR-1  1927-02-08    619   dyer   rad     9.82\n",
      "1     619   DR-1  1927-02-08    619   dyer   sal     0.13\n",
      "2     622   DR-1  1927-02-10    622   dyer   rad     7.80\n",
      "3     622   DR-1  1927-02-10    622   dyer   sal     0.09\n",
      "4     734   DR-3  1939-01-07    734     pb   rad     8.41\n",
      "5     734   DR-3  1939-01-07    734   lake   sal     0.05\n",
      "6     734   DR-3  1939-01-07    734     pb  temp   -21.50\n",
      "7     735   DR-3  1930-01-12    735     pb   rad     7.22\n",
      "8     735   DR-3  1930-01-12    735    NaN   sal     0.06\n",
      "9     735   DR-3  1930-01-12    735    NaN  temp   -26.00\n",
      "10    751   DR-3  1930-02-26    751     pb   rad     4.35\n",
      "11    751   DR-3  1930-02-26    751     pb  temp   -18.50\n",
      "12    751   DR-3  1930-02-26    751   lake   sal     0.10\n",
      "13    752   DR-3         NaN    752   lake   rad     2.19\n",
      "14    752   DR-3         NaN    752   lake   sal     0.09\n",
      "15    752   DR-3         NaN    752   lake  temp   -16.00\n",
      "16    752   DR-3         NaN    752    roe   sal    41.60\n",
      "17    837  MSK-4  1932-01-14    837   lake   rad     1.46\n",
      "18    837  MSK-4  1932-01-14    837   lake   sal     0.21\n",
      "19    837  MSK-4  1932-01-14    837    roe   sal    22.50\n",
      "20    844   DR-1  1932-03-22    844    roe   rad    11.25\n"
     ]
    }
   ],
   "source": [
    "ps = person.merge(survey, left_on='ident', right_on='person')\n",
    "vs = visited.merge(survey, left_on='ident', right_on='taken')\n",
    "\n",
    "print(ps)\n",
    "print(vs)"
   ]
  },
  {
   "cell_type": "code",
   "execution_count": 38,
   "metadata": {},
   "outputs": [
    {
     "ename": "NameError",
     "evalue": "name 'ps' is not defined",
     "output_type": "error",
     "traceback": [
      "\u001b[1;31m---------------------------------------------------------------------------\u001b[0m",
      "\u001b[1;31mNameError\u001b[0m                                 Traceback (most recent call last)",
      "\u001b[1;32m<ipython-input-38-8ff015032c48>\u001b[0m in \u001b[0;36m<module>\u001b[1;34m\u001b[0m\n\u001b[0;32m      1\u001b[0m \u001b[1;31m# left_on, right_on에 전달하는 값이 여러개라도 상관 없다\u001b[0m\u001b[1;33m\u001b[0m\u001b[1;33m\u001b[0m\u001b[1;33m\u001b[0m\u001b[0m\n\u001b[1;32m----> 2\u001b[1;33m \u001b[0mps_vs\u001b[0m \u001b[1;33m=\u001b[0m \u001b[0mps\u001b[0m\u001b[1;33m.\u001b[0m\u001b[0mmerge\u001b[0m\u001b[1;33m(\u001b[0m\u001b[0mvs\u001b[0m\u001b[1;33m,\u001b[0m \u001b[0mleft_on\u001b[0m\u001b[1;33m=\u001b[0m\u001b[1;33m[\u001b[0m\u001b[1;34m'ident'\u001b[0m\u001b[1;33m,\u001b[0m \u001b[1;34m'taken'\u001b[0m\u001b[1;33m,\u001b[0m \u001b[1;34m'quant'\u001b[0m\u001b[1;33m,\u001b[0m \u001b[1;34m'reading'\u001b[0m\u001b[1;33m]\u001b[0m\u001b[1;33m,\u001b[0m \u001b[0mright_on\u001b[0m\u001b[1;33m=\u001b[0m\u001b[1;33m[\u001b[0m\u001b[1;34m'person'\u001b[0m\u001b[1;33m,\u001b[0m \u001b[1;34m'ident'\u001b[0m\u001b[1;33m,\u001b[0m \u001b[1;34m'quant'\u001b[0m\u001b[1;33m,\u001b[0m \u001b[1;34m'reading'\u001b[0m\u001b[1;33m]\u001b[0m\u001b[1;33m)\u001b[0m\u001b[1;33m\u001b[0m\u001b[1;33m\u001b[0m\u001b[0m\n\u001b[0m\u001b[0;32m      3\u001b[0m \u001b[1;33m\u001b[0m\u001b[0m\n\u001b[0;32m      4\u001b[0m \u001b[0mprint\u001b[0m\u001b[1;33m(\u001b[0m\u001b[0mps_vs\u001b[0m\u001b[1;33m.\u001b[0m\u001b[0mloc\u001b[0m\u001b[1;33m[\u001b[0m\u001b[1;36m0\u001b[0m\u001b[1;33m,\u001b[0m \u001b[1;33m]\u001b[0m\u001b[1;33m)\u001b[0m\u001b[1;33m\u001b[0m\u001b[1;33m\u001b[0m\u001b[0m\n",
      "\u001b[1;31mNameError\u001b[0m: name 'ps' is not defined"
     ]
    }
   ],
   "source": [
    "# left_on, right_on에 전달하는 값이 여러개라도 상관 없다\n",
    "ps_vs = ps.merge(vs, left_on=['ident', 'taken', 'quant', 'reading'], right_on=['person', 'ident', 'quant', 'reading'])\n",
    "\n",
    "print(ps_vs.loc[0, ])"
   ]
  },
  {
   "cell_type": "code",
   "execution_count": null,
   "metadata": {},
   "outputs": [],
   "source": []
  },
  {
   "cell_type": "code",
   "execution_count": null,
   "metadata": {},
   "outputs": [],
   "source": []
  },
  {
   "cell_type": "code",
   "execution_count": null,
   "metadata": {},
   "outputs": [],
   "source": []
  },
  {
   "cell_type": "code",
   "execution_count": null,
   "metadata": {},
   "outputs": [],
   "source": []
  }
 ],
 "metadata": {
  "kernelspec": {
   "display_name": "Python 3",
   "language": "python",
   "name": "python3"
  },
  "language_info": {
   "codemirror_mode": {
    "name": "ipython",
    "version": 3
   },
   "file_extension": ".py",
   "mimetype": "text/x-python",
   "name": "python",
   "nbconvert_exporter": "python",
   "pygments_lexer": "ipython3",
   "version": "3.7.3"
  }
 },
 "nbformat": 4,
 "nbformat_minor": 2
}
