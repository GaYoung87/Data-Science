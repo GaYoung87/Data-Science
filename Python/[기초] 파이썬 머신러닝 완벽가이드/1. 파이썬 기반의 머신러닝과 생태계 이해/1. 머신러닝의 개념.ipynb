{
 "cells": [
  {
   "cell_type": "code",
   "execution_count": null,
   "metadata": {},
   "outputs": [],
   "source": [
    "# 1. 머신러닝의 개념\n",
    "\n",
    "# [머신러닝]\n",
    "#  - 개념: 어플리케이션을 수정하지 않고, 데이터 기반으로 패턴을 학습하고, 결과를 예측하는 알고리즘 기법\n",
    "#  - 목적: 데이터 기반으로 통계적인 신뢰도 강화, 예측오류 최소화\n",
    "# 내 패턴을 스스로 인지하고 신뢰도 있는 예측 결과 도출\n",
    "\n",
    "# [분류]\n",
    "# 지도학습: 분류, 회귀, 추천시스템, 시각/음성 감지 및 인식, 텍스트분석, NLP\n",
    "# 비지도학습: 클러스터링, 차원 축소, 강화학습"
   ]
  }
 ],
 "metadata": {
  "kernelspec": {
   "display_name": "Python 3",
   "language": "python",
   "name": "python3"
  },
  "language_info": {
   "codemirror_mode": {
    "name": "ipython",
    "version": 3
   },
   "file_extension": ".py",
   "mimetype": "text/x-python",
   "name": "python",
   "nbconvert_exporter": "python",
   "pygments_lexer": "ipython3",
   "version": "3.8.5"
  }
 },
 "nbformat": 4,
 "nbformat_minor": 4
}
