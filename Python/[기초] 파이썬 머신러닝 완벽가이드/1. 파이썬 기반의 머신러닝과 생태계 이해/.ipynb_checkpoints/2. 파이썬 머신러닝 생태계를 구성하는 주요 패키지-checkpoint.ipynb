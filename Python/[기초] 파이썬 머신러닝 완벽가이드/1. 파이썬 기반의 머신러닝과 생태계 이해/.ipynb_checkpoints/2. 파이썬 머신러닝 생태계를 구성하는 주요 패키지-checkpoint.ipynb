{
 "cells": [
  {
   "cell_type": "code",
   "execution_count": null,
   "metadata": {},
   "outputs": [],
   "source": [
    "# 1. 머신러닝 패키지: 사이킷런, 텐서플로, 케라스\n",
    "# 2. 행렬/선형대수/통계 패키지: 넘파이(행렬/선형대수), 사이파이(통계)\n",
    "# 3. 데이터 핸들링: 판다스\n",
    "# 4. 시각화: Matplotlib, Seaborn"
   ]
  }
 ],
 "metadata": {
  "kernelspec": {
   "display_name": "Python 3",
   "language": "python",
   "name": "python3"
  },
  "language_info": {
   "codemirror_mode": {
    "name": "ipython",
    "version": 3
   },
   "file_extension": ".py",
   "mimetype": "text/x-python",
   "name": "python",
   "nbconvert_exporter": "python",
   "pygments_lexer": "ipython3",
   "version": "3.8.5"
  }
 },
 "nbformat": 4,
 "nbformat_minor": 4
}
